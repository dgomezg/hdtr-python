{
 "cells": [
  {
   "cell_type": "code",
   "execution_count": 52,
   "metadata": {},
   "outputs": [],
   "source": [
    "from PIL import Image\n",
    "\n",
    "img4 = Image.open(\"../samples/BurrandStreetBridge-Vancouver/20060308061500.jpg\")\n",
    "img3 = Image.open(\"../samples/BurrandStreetBridge-Vancouver/20060308062500.jpg\")\n",
    "img2 = Image.open(\"../samples/BurrandStreetBridge-Vancouver/20060308064500.jpg\")\n",
    "img1 = Image.open(\"../samples/BurrandStreetBridge-Vancouver/20060308070500.jpg\")\n",
    "\n",
    "q1_mask = Image.new(\"L\", (img1.size[0]//4, img1.size[1]), 255)\n",
    "q2_mask = Image.new(\"L\",(img1.size[0]//4, img1.size[1]), 255)\n",
    "\n",
    "mask = Image.new(\"L\", img1.size)\n",
    "\n",
    "mask.paste(q1_mask, (0,0))\n",
    "mask.paste(q2_mask, (2*img1.size[0]//4, 0))\n",
    "\n",
    "img1_img2 = Image.composite(img1, img2, mask)\n",
    "img1_img2.show()"
   ]
  },
  {
   "cell_type": "code",
   "execution_count": null,
   "metadata": {
    "collapsed": true
   },
   "outputs": [],
   "source": []
  },
  {
   "cell_type": "code",
   "execution_count": null,
   "metadata": {
    "collapsed": true
   },
   "outputs": [],
   "source": []
  }
 ],
 "metadata": {
  "kernelspec": {
   "display_name": "Python 3",
   "language": "python",
   "name": "python3"
  },
  "language_info": {
   "codemirror_mode": {
    "name": "ipython",
    "version": 3
   },
   "file_extension": ".py",
   "mimetype": "text/x-python",
   "name": "python",
   "nbconvert_exporter": "python",
   "pygments_lexer": "ipython3",
   "version": "3.6.3"
  }
 },
 "nbformat": 4,
 "nbformat_minor": 2
}
