{
 "cells": [
  {
   "cell_type": "code",
   "execution_count": 204,
   "metadata": {},
   "outputs": [],
   "source": [
    "import numpy as np\n",
    "from PIL import Image\n",
    "\n",
    "def get_gradient_mask(current, num_images, size, transition_pixels):\n",
    "    whites_size = (current+1)*(size[0]//num_images)-transition_pixels\n",
    "    gradient_size = transition_pixels*2\n",
    "    blacks_size = ((num_images-(current+1))*(size[0]//num_images))-transition_pixels\n",
    "    \n",
    "    whites = np.ones(whites_size, dtype=int)*255\n",
    "    gradient = np.linspace(255, 0, gradient_size, dtype=int)\n",
    "    blacks = np.zeros(blacks_size, dtype=int)\n",
    "    \n",
    "    transp_array = np.concatenate((whites, gradient, blacks))\n",
    "    \n",
    "    mask = Image.new(\"L\", size)\n",
    "    for x in range(mask.size[0]):\n",
    "        for y in range(mask.size[1]):\n",
    "            mask.putpixel((x,y), int(transp_array[x]))\n",
    "    \n",
    "    return mask\n",
    "\n",
    "def get_gradient_masks(num_images, size, transition_pixels):\n",
    "    masks = []\n",
    "    for current in range(num_images-1):\n",
    "        masks.append(get_gradient_mask(current, num_images, size, transition_pixels))\n",
    "    \n",
    "    return masks\n",
    "\n",
    "def get_gradient_masks_from_imgs(imgs):\n",
    "    return get_gradient_masks(len(imgs), imgs[0].size, (imgs[0].size[0])//len(imgs))\n",
    "\n",
    "def get_gradient_masks_from_transition_pixels(imgs, transition_pixels):\n",
    "    return get_gradient_masks(len(imgs), imgs[0].size, transition_pixels)\n",
    "\n",
    "def composite_img(img1, img2, mask):\n",
    "    return Image.composite(img1, img2, mask)\n",
    "\n",
    "def composite_imgs(imgs, masks):\n",
    "    current_image = imgs[0]\n",
    "    for i in range(1,len(imgs)):\n",
    "        current_image = Image.composite(current_image, imgs[i], masks[i-1])\n",
    "    \n",
    "    return current_image\n",
    "        \n",
    "\n",
    "img4 = Image.open(\"../samples/BurrandStreetBridge-Vancouver/20060308061500.jpg\")\n",
    "img3 = Image.open(\"../samples/BurrandStreetBridge-Vancouver/20060308062500.jpg\")\n",
    "img2 = Image.open(\"../samples/BurrandStreetBridge-Vancouver/20060308064500.jpg\")\n",
    "img1 = Image.open(\"../samples/BurrandStreetBridge-Vancouver/20060308070500.jpg\")\n",
    "\n",
    "imgs = [img1, img2, img3, img4]\n",
    "#masks = get_gradient_masks_from_imgs(imgs)\n",
    "masks = get_gradient_masks_from_transition_pixels(imgs, 120)\n",
    "\n",
    "final_image = composite_imgs(imgs,masks)\n",
    "final_image.show()"
   ]
  },
  {
   "cell_type": "code",
   "execution_count": null,
   "metadata": {
    "collapsed": true
   },
   "outputs": [],
   "source": []
  },
  {
   "cell_type": "code",
   "execution_count": null,
   "metadata": {},
   "outputs": [],
   "source": []
  },
  {
   "cell_type": "code",
   "execution_count": 130,
   "metadata": {},
   "outputs": [],
   "source": []
  },
  {
   "cell_type": "code",
   "execution_count": null,
   "metadata": {},
   "outputs": [],
   "source": []
  },
  {
   "cell_type": "code",
   "execution_count": null,
   "metadata": {
    "collapsed": true
   },
   "outputs": [],
   "source": []
  }
 ],
 "metadata": {
  "kernelspec": {
   "display_name": "Python 3",
   "language": "python",
   "name": "python3"
  },
  "language_info": {
   "codemirror_mode": {
    "name": "ipython",
    "version": 3
   },
   "file_extension": ".py",
   "mimetype": "text/x-python",
   "name": "python",
   "nbconvert_exporter": "python",
   "pygments_lexer": "ipython3",
   "version": "3.6.3"
  }
 },
 "nbformat": 4,
 "nbformat_minor": 2
}
